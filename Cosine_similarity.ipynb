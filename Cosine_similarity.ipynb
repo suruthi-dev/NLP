{
 "cells": [
  {
   "cell_type": "code",
   "execution_count": 1,
   "id": "69cf8bc5",
   "metadata": {},
   "outputs": [],
   "source": [
    "import nltk"
   ]
  },
  {
   "cell_type": "code",
   "execution_count": 2,
   "id": "8a1e3c28",
   "metadata": {},
   "outputs": [],
   "source": [
    "from nltk.corpus import stopwords\n",
    "from nltk.tokenize import word_tokenize"
   ]
  },
  {
   "cell_type": "code",
   "execution_count": 3,
   "id": "2b448ab3",
   "metadata": {},
   "outputs": [],
   "source": [
    "a = 'i hate  vannila icecream'\n",
    "b = ' i love butterscotch icecream'"
   ]
  },
  {
   "cell_type": "code",
   "execution_count": 4,
   "id": "acf8317f",
   "metadata": {},
   "outputs": [],
   "source": [
    "a_tokens = word_tokenize(a)\n",
    "b_tokens = word_tokenize(b)"
   ]
  },
  {
   "cell_type": "code",
   "execution_count": 5,
   "id": "0b628493",
   "metadata": {},
   "outputs": [],
   "source": [
    "sw = stopwords.words(\"english\")"
   ]
  },
  {
   "cell_type": "code",
   "execution_count": 6,
   "id": "4c8883cc",
   "metadata": {},
   "outputs": [],
   "source": [
    "a_list = {w for w  in a_tokens if w not in sw}\n",
    "b_list = {w for w in b_tokens if w not in sw}"
   ]
  },
  {
   "cell_type": "code",
   "execution_count": 7,
   "id": "c35afeb4",
   "metadata": {},
   "outputs": [
    {
     "data": {
      "text/plain": [
       "{'butterscotch', 'icecream', 'love'}"
      ]
     },
     "execution_count": 7,
     "metadata": {},
     "output_type": "execute_result"
    }
   ],
   "source": [
    "b_list"
   ]
  },
  {
   "cell_type": "code",
   "execution_count": 8,
   "id": "5bb7ac93",
   "metadata": {},
   "outputs": [],
   "source": [
    "l1 = []\n",
    "l2 = []\n",
    "\n",
    "r_vec = a_list.union(b_list)\n",
    "\n",
    "for w in r_vec:\n",
    "    if w in a_list: l1.append(1)\n",
    "    else : l1.append(0)\n",
    "    if w in b_list : l2.append(1)\n",
    "    else: l2.append(0)"
   ]
  },
  {
   "cell_type": "code",
   "execution_count": 9,
   "id": "407ea2cf",
   "metadata": {},
   "outputs": [
    {
     "data": {
      "text/plain": [
       "{'butterscotch', 'hate', 'icecream', 'love', 'vannila'}"
      ]
     },
     "execution_count": 9,
     "metadata": {},
     "output_type": "execute_result"
    }
   ],
   "source": [
    "r_vec"
   ]
  },
  {
   "cell_type": "code",
   "execution_count": 10,
   "id": "87eddb17",
   "metadata": {},
   "outputs": [
    {
     "name": "stdout",
     "output_type": "stream",
     "text": [
      "0.3333333333333333\n"
     ]
    }
   ],
   "source": [
    "c = 0\n",
    "\n",
    "for i in range(len(r_vec)):\n",
    "    c = c + l1[i]*l2[i]\n",
    "cos = c/((sum(l1)*sum(l2))**0.5)\n",
    "print(cos)"
   ]
  },
  {
   "cell_type": "code",
   "execution_count": null,
   "id": "ada19799",
   "metadata": {},
   "outputs": [],
   "source": []
  }
 ],
 "metadata": {
  "kernelspec": {
   "display_name": "Python 3 (ipykernel)",
   "language": "python",
   "name": "python3"
  },
  "language_info": {
   "codemirror_mode": {
    "name": "ipython",
    "version": 3
   },
   "file_extension": ".py",
   "mimetype": "text/x-python",
   "name": "python",
   "nbconvert_exporter": "python",
   "pygments_lexer": "ipython3",
   "version": "3.9.12"
  }
 },
 "nbformat": 4,
 "nbformat_minor": 5
}
