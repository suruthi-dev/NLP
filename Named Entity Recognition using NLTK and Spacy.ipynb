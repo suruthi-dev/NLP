{
 "cells": [
  {
   "cell_type": "markdown",
   "id": "0d62bdb8",
   "metadata": {},
   "source": [
    "# Approachs\n",
    "1. NLTK [ word segmentation + sentence segmentation]\n",
    "2. Spacy"
   ]
  },
  {
   "cell_type": "markdown",
   "id": "17930c09",
   "metadata": {},
   "source": [
    "# NLTK\n",
    "\n",
    "## 1. Word Tokenization\n",
    "## 2. POS Tagging\n",
    "## 3. ne_chunk"
   ]
  },
  {
   "cell_type": "code",
   "execution_count": 3,
   "id": "72ee507f",
   "metadata": {},
   "outputs": [],
   "source": [
    "import pandas as pd\n",
    "import nltk"
   ]
  },
  {
   "cell_type": "code",
   "execution_count": 4,
   "id": "3dd80d4d",
   "metadata": {},
   "outputs": [],
   "source": [
    "text = ''' Apple is aiming to buy a India's startup Xolo INC for $6 million USD,\n",
    "which increased the stock rate  of AAPL by 15% in United States of America'''"
   ]
  },
  {
   "cell_type": "markdown",
   "id": "dc4ef35b",
   "metadata": {},
   "source": [
    "# Word Tokenization"
   ]
  },
  {
   "cell_type": "code",
   "execution_count": 6,
   "id": "e42619e8",
   "metadata": {},
   "outputs": [
    {
     "data": {
      "text/plain": [
       "['Apple',\n",
       " 'is',\n",
       " 'aiming',\n",
       " 'to',\n",
       " 'buy',\n",
       " 'a',\n",
       " 'India',\n",
       " \"'s\",\n",
       " 'startup',\n",
       " 'Xolo',\n",
       " 'INC',\n",
       " 'for',\n",
       " '$',\n",
       " '6',\n",
       " 'million',\n",
       " 'USD',\n",
       " ',',\n",
       " 'which',\n",
       " 'increased',\n",
       " 'the',\n",
       " 'stock',\n",
       " 'rate',\n",
       " 'of',\n",
       " 'AAPL',\n",
       " 'by',\n",
       " '15',\n",
       " '%',\n",
       " 'in',\n",
       " 'United',\n",
       " 'States',\n",
       " 'of',\n",
       " 'America']"
      ]
     },
     "execution_count": 6,
     "metadata": {},
     "output_type": "execute_result"
    }
   ],
   "source": [
    "words = nltk.word_tokenize(text)\n",
    "words"
   ]
  },
  {
   "cell_type": "markdown",
   "id": "70f9f3fe",
   "metadata": {},
   "source": [
    "# POS Tagging"
   ]
  },
  {
   "cell_type": "code",
   "execution_count": 7,
   "id": "01452103",
   "metadata": {},
   "outputs": [
    {
     "data": {
      "text/plain": [
       "[('Apple', 'NNP'),\n",
       " ('is', 'VBZ'),\n",
       " ('aiming', 'VBG'),\n",
       " ('to', 'TO'),\n",
       " ('buy', 'VB'),\n",
       " ('a', 'DT'),\n",
       " ('India', 'NNP'),\n",
       " (\"'s\", 'POS'),\n",
       " ('startup', 'NN'),\n",
       " ('Xolo', 'NNP'),\n",
       " ('INC', 'NNP'),\n",
       " ('for', 'IN'),\n",
       " ('$', '$'),\n",
       " ('6', 'CD'),\n",
       " ('million', 'CD'),\n",
       " ('USD', 'NNP'),\n",
       " (',', ','),\n",
       " ('which', 'WDT'),\n",
       " ('increased', 'VBD'),\n",
       " ('the', 'DT'),\n",
       " ('stock', 'NN'),\n",
       " ('rate', 'NN'),\n",
       " ('of', 'IN'),\n",
       " ('AAPL', 'NNP'),\n",
       " ('by', 'IN'),\n",
       " ('15', 'CD'),\n",
       " ('%', 'NN'),\n",
       " ('in', 'IN'),\n",
       " ('United', 'NNP'),\n",
       " ('States', 'NNPS'),\n",
       " ('of', 'IN'),\n",
       " ('America', 'NNP')]"
      ]
     },
     "execution_count": 7,
     "metadata": {},
     "output_type": "execute_result"
    }
   ],
   "source": [
    "pos_tags = nltk.pos_tag(words)\n",
    "pos_tags"
   ]
  },
  {
   "cell_type": "code",
   "execution_count": 8,
   "id": "aa25e586",
   "metadata": {},
   "outputs": [
    {
     "name": "stdout",
     "output_type": "stream",
     "text": [
      "VBZ: verb, present tense, 3rd person singular\n",
      "    bases reconstructs marks mixes displeases seals carps weaves snatches\n",
      "    slumps stretches authorizes smolders pictures emerges stockpiles\n",
      "    seduces fizzes uses bolsters slaps speaks pleads ...\n"
     ]
    }
   ],
   "source": [
    "# refrerring for tags\n",
    "nltk.help.upenn_tagset(\"VBZ\")"
   ]
  },
  {
   "cell_type": "markdown",
   "id": "8973445b",
   "metadata": {},
   "source": [
    "# ne_chunk"
   ]
  },
  {
   "cell_type": "code",
   "execution_count": 9,
   "id": "2a440727",
   "metadata": {},
   "outputs": [
    {
     "name": "stdout",
     "output_type": "stream",
     "text": [
      "(GPE Apple/NNP)\n",
      "('is', 'VBZ')\n",
      "('aiming', 'VBG')\n",
      "('to', 'TO')\n",
      "('buy', 'VB')\n",
      "('a', 'DT')\n",
      "(GPE India/NNP)\n",
      "(\"'s\", 'POS')\n",
      "('startup', 'NN')\n",
      "(PERSON Xolo/NNP INC/NNP)\n",
      "('for', 'IN')\n",
      "('$', '$')\n",
      "('6', 'CD')\n",
      "('million', 'CD')\n",
      "('USD', 'NNP')\n",
      "(',', ',')\n",
      "('which', 'WDT')\n",
      "('increased', 'VBD')\n",
      "('the', 'DT')\n",
      "('stock', 'NN')\n",
      "('rate', 'NN')\n",
      "('of', 'IN')\n",
      "(ORGANIZATION AAPL/NNP)\n",
      "('by', 'IN')\n",
      "('15', 'CD')\n",
      "('%', 'NN')\n",
      "('in', 'IN')\n",
      "(GPE United/NNP States/NNPS)\n",
      "('of', 'IN')\n",
      "(GPE America/NNP)\n"
     ]
    }
   ],
   "source": [
    "chunks = nltk.ne_chunk(pos_tags)\n",
    "for i in chunks:\n",
    "    print(i)"
   ]
  },
  {
   "cell_type": "code",
   "execution_count": 10,
   "id": "28011b2a",
   "metadata": {},
   "outputs": [
    {
     "name": "stdout",
     "output_type": "stream",
     "text": [
      "(NE Apple/NNP)\n",
      "('is', 'VBZ')\n",
      "('aiming', 'VBG')\n",
      "('to', 'TO')\n",
      "('buy', 'VB')\n",
      "('a', 'DT')\n",
      "(NE India/NNP)\n",
      "(\"'s\", 'POS')\n",
      "('startup', 'NN')\n",
      "(NE Xolo/NNP INC/NNP)\n",
      "('for', 'IN')\n",
      "('$', '$')\n",
      "('6', 'CD')\n",
      "('million', 'CD')\n",
      "('USD', 'NNP')\n",
      "(',', ',')\n",
      "('which', 'WDT')\n",
      "('increased', 'VBD')\n",
      "('the', 'DT')\n",
      "('stock', 'NN')\n",
      "('rate', 'NN')\n",
      "('of', 'IN')\n",
      "(NE AAPL/NNP)\n",
      "('by', 'IN')\n",
      "('15', 'CD')\n",
      "('%', 'NN')\n",
      "('in', 'IN')\n",
      "(NE United/NNP States/NNPS)\n",
      "('of', 'IN')\n",
      "(NE America/NNP)\n"
     ]
    }
   ],
   "source": [
    "chunks_ne = nltk.ne_chunk(pos_tags,binary=True)\n",
    "for i in chunks_ne:\n",
    "    print(i)"
   ]
  },
  {
   "cell_type": "markdown",
   "id": "431937cb",
   "metadata": {},
   "source": [
    "# binary = False"
   ]
  },
  {
   "cell_type": "code",
   "execution_count": 11,
   "id": "461dcc5b",
   "metadata": {},
   "outputs": [
    {
     "data": {
      "text/html": [
       "<div>\n",
       "<style scoped>\n",
       "    .dataframe tbody tr th:only-of-type {\n",
       "        vertical-align: middle;\n",
       "    }\n",
       "\n",
       "    .dataframe tbody tr th {\n",
       "        vertical-align: top;\n",
       "    }\n",
       "\n",
       "    .dataframe thead th {\n",
       "        text-align: right;\n",
       "    }\n",
       "</style>\n",
       "<table border=\"1\" class=\"dataframe\">\n",
       "  <thead>\n",
       "    <tr style=\"text-align: right;\">\n",
       "      <th></th>\n",
       "      <th>Entities</th>\n",
       "      <th>Labels</th>\n",
       "    </tr>\n",
       "  </thead>\n",
       "  <tbody>\n",
       "    <tr>\n",
       "      <th>0</th>\n",
       "      <td>United States</td>\n",
       "      <td>GPE</td>\n",
       "    </tr>\n",
       "    <tr>\n",
       "      <th>1</th>\n",
       "      <td>AAPL</td>\n",
       "      <td>ORGANIZATION</td>\n",
       "    </tr>\n",
       "    <tr>\n",
       "      <th>2</th>\n",
       "      <td>Xolo INC</td>\n",
       "      <td>PERSON</td>\n",
       "    </tr>\n",
       "    <tr>\n",
       "      <th>3</th>\n",
       "      <td>Apple</td>\n",
       "      <td>GPE</td>\n",
       "    </tr>\n",
       "    <tr>\n",
       "      <th>4</th>\n",
       "      <td>America</td>\n",
       "      <td>GPE</td>\n",
       "    </tr>\n",
       "    <tr>\n",
       "      <th>5</th>\n",
       "      <td>India</td>\n",
       "      <td>GPE</td>\n",
       "    </tr>\n",
       "  </tbody>\n",
       "</table>\n",
       "</div>"
      ],
      "text/plain": [
       "        Entities        Labels\n",
       "0  United States           GPE\n",
       "1           AAPL  ORGANIZATION\n",
       "2       Xolo INC        PERSON\n",
       "3          Apple           GPE\n",
       "4        America           GPE\n",
       "5          India           GPE"
      ]
     },
     "execution_count": 11,
     "metadata": {},
     "output_type": "execute_result"
    }
   ],
   "source": [
    "entities = []\n",
    "labels = []\n",
    "\n",
    "for chunk in chunks:\n",
    "    if hasattr(chunk,'label'):\n",
    "        entities.append(' '.join(word[0] for word in chunk))\n",
    "        labels.append(chunk.label())\n",
    "        \n",
    "entities_labels = list(set(zip(entities,labels)))\n",
    "df = pd.DataFrame(entities_labels)\n",
    "df.columns = ['Entities','Labels']\n",
    "df"
   ]
  },
  {
   "cell_type": "markdown",
   "id": "113068e5",
   "metadata": {},
   "source": [
    "# binary = True"
   ]
  },
  {
   "cell_type": "code",
   "execution_count": 31,
   "id": "d55942de",
   "metadata": {},
   "outputs": [
    {
     "data": {
      "text/html": [
       "<div>\n",
       "<style scoped>\n",
       "    .dataframe tbody tr th:only-of-type {\n",
       "        vertical-align: middle;\n",
       "    }\n",
       "\n",
       "    .dataframe tbody tr th {\n",
       "        vertical-align: top;\n",
       "    }\n",
       "\n",
       "    .dataframe thead th {\n",
       "        text-align: right;\n",
       "    }\n",
       "</style>\n",
       "<table border=\"1\" class=\"dataframe\">\n",
       "  <thead>\n",
       "    <tr style=\"text-align: right;\">\n",
       "      <th></th>\n",
       "      <th>Entities</th>\n",
       "      <th>Labels</th>\n",
       "    </tr>\n",
       "  </thead>\n",
       "  <tbody>\n",
       "    <tr>\n",
       "      <th>0</th>\n",
       "      <td>Xolo INC</td>\n",
       "      <td>NE</td>\n",
       "    </tr>\n",
       "    <tr>\n",
       "      <th>1</th>\n",
       "      <td>AAPL</td>\n",
       "      <td>NE</td>\n",
       "    </tr>\n",
       "    <tr>\n",
       "      <th>2</th>\n",
       "      <td>Apple</td>\n",
       "      <td>NE</td>\n",
       "    </tr>\n",
       "    <tr>\n",
       "      <th>3</th>\n",
       "      <td>America</td>\n",
       "      <td>NE</td>\n",
       "    </tr>\n",
       "    <tr>\n",
       "      <th>4</th>\n",
       "      <td>United States</td>\n",
       "      <td>NE</td>\n",
       "    </tr>\n",
       "    <tr>\n",
       "      <th>5</th>\n",
       "      <td>India</td>\n",
       "      <td>NE</td>\n",
       "    </tr>\n",
       "  </tbody>\n",
       "</table>\n",
       "</div>"
      ],
      "text/plain": [
       "        Entities Labels\n",
       "0       Xolo INC     NE\n",
       "1           AAPL     NE\n",
       "2          Apple     NE\n",
       "3        America     NE\n",
       "4  United States     NE\n",
       "5          India     NE"
      ]
     },
     "execution_count": 31,
     "metadata": {},
     "output_type": "execute_result"
    }
   ],
   "source": [
    "entities_ne = []\n",
    "labels_ne = []\n",
    "\n",
    "for chunk in chunks_ne:\n",
    "    if hasattr(chunk,'label'):\n",
    "        entities_ne.append(' '.join(word[0] for word in chunk))\n",
    "        labels_ne.append(chunk.label())\n",
    "        \n",
    "entities_labels_ne = list(set(zip(entities_ne,labels_ne)))\n",
    "df_ne = pd.DataFrame(entities_labels_ne)\n",
    "df_ne.columns = ['Entities','Labels']\n",
    "df_ne"
   ]
  },
  {
   "cell_type": "markdown",
   "id": "71c98c8d",
   "metadata": {},
   "source": [
    "# Spacy"
   ]
  },
  {
   "cell_type": "code",
   "execution_count": 13,
   "id": "663a816a",
   "metadata": {},
   "outputs": [],
   "source": [
    "import spacy,nltk\n",
    "nlp = spacy.load(\"en_core_web_sm\")"
   ]
  },
  {
   "cell_type": "code",
   "execution_count": 14,
   "id": "f3a1fe62",
   "metadata": {},
   "outputs": [
    {
     "data": {
      "text/plain": [
       "['tok2vec', 'tagger', 'parser', 'attribute_ruler', 'lemmatizer', 'ner']"
      ]
     },
     "execution_count": 14,
     "metadata": {},
     "output_type": "execute_result"
    }
   ],
   "source": [
    "nlp.pipe_names"
   ]
  },
  {
   "cell_type": "code",
   "execution_count": 30,
   "id": "5e7eeb94",
   "metadata": {},
   "outputs": [
    {
     "data": {
      "text/plain": [
       "['CARDINAL',\n",
       " 'DATE',\n",
       " 'EVENT',\n",
       " 'FAC',\n",
       " 'GPE',\n",
       " 'LANGUAGE',\n",
       " 'LAW',\n",
       " 'LOC',\n",
       " 'MONEY',\n",
       " 'NORP',\n",
       " 'ORDINAL',\n",
       " 'ORG',\n",
       " 'PERCENT',\n",
       " 'PERSON',\n",
       " 'PRODUCT',\n",
       " 'QUANTITY',\n",
       " 'TIME',\n",
       " 'WORK_OF_ART']"
      ]
     },
     "execution_count": 30,
     "metadata": {},
     "output_type": "execute_result"
    }
   ],
   "source": [
    "nlp.pipe_labels['ner']"
   ]
  },
  {
   "cell_type": "code",
   "execution_count": 15,
   "id": "46acf352",
   "metadata": {},
   "outputs": [],
   "source": [
    "doc = nlp(text)"
   ]
  },
  {
   "cell_type": "code",
   "execution_count": 18,
   "id": "0a8a6936",
   "metadata": {},
   "outputs": [
    {
     "name": "stdout",
     "output_type": "stream",
     "text": [
      "Apple --> ORG --> Companies, agencies, institutions, etc.\n",
      "India --> GPE --> Countries, cities, states\n",
      "Xolo INC --> ORG --> Companies, agencies, institutions, etc.\n",
      "$6 million --> MONEY --> Monetary values, including unit\n",
      "15% --> PERCENT --> Percentage, including \"%\"\n",
      "United States of America --> GPE --> Countries, cities, states\n"
     ]
    }
   ],
   "source": [
    "for ents in doc.ents:\n",
    "    print(ents,\"-->\",ents.label_,\"-->\",spacy.explain(ents.label_))"
   ]
  },
  {
   "cell_type": "code",
   "execution_count": null,
   "id": "de8b0a11",
   "metadata": {},
   "outputs": [],
   "source": [
    "entities_labels_ne = list(set(zip(entities_ne,labels_ne)))"
   ]
  },
  {
   "cell_type": "code",
   "execution_count": 25,
   "id": "6c8dff57",
   "metadata": {},
   "outputs": [
    {
     "data": {
      "text/html": [
       "<div>\n",
       "<style scoped>\n",
       "    .dataframe tbody tr th:only-of-type {\n",
       "        vertical-align: middle;\n",
       "    }\n",
       "\n",
       "    .dataframe tbody tr th {\n",
       "        vertical-align: top;\n",
       "    }\n",
       "\n",
       "    .dataframe thead th {\n",
       "        text-align: right;\n",
       "    }\n",
       "</style>\n",
       "<table border=\"1\" class=\"dataframe\">\n",
       "  <thead>\n",
       "    <tr style=\"text-align: right;\">\n",
       "      <th></th>\n",
       "      <th>Entities</th>\n",
       "      <th>Labels</th>\n",
       "      <th>Description</th>\n",
       "      <th>Starting Position</th>\n",
       "      <th>Ending Position</th>\n",
       "    </tr>\n",
       "  </thead>\n",
       "  <tbody>\n",
       "    <tr>\n",
       "      <th>0</th>\n",
       "      <td>(Apple)</td>\n",
       "      <td>ORG</td>\n",
       "      <td>Companies, agencies, institutions, etc.</td>\n",
       "      <td>1</td>\n",
       "      <td>6</td>\n",
       "    </tr>\n",
       "    <tr>\n",
       "      <th>1</th>\n",
       "      <td>(India)</td>\n",
       "      <td>GPE</td>\n",
       "      <td>Countries, cities, states</td>\n",
       "      <td>26</td>\n",
       "      <td>31</td>\n",
       "    </tr>\n",
       "    <tr>\n",
       "      <th>2</th>\n",
       "      <td>(Xolo, INC)</td>\n",
       "      <td>ORG</td>\n",
       "      <td>Companies, agencies, institutions, etc.</td>\n",
       "      <td>42</td>\n",
       "      <td>50</td>\n",
       "    </tr>\n",
       "    <tr>\n",
       "      <th>3</th>\n",
       "      <td>($, 6, million)</td>\n",
       "      <td>MONEY</td>\n",
       "      <td>Monetary values, including unit</td>\n",
       "      <td>55</td>\n",
       "      <td>65</td>\n",
       "    </tr>\n",
       "    <tr>\n",
       "      <th>4</th>\n",
       "      <td>(15, %)</td>\n",
       "      <td>PERCENT</td>\n",
       "      <td>Percentage, including \"%\"</td>\n",
       "      <td>114</td>\n",
       "      <td>117</td>\n",
       "    </tr>\n",
       "    <tr>\n",
       "      <th>5</th>\n",
       "      <td>(United, States, of, America)</td>\n",
       "      <td>GPE</td>\n",
       "      <td>Countries, cities, states</td>\n",
       "      <td>121</td>\n",
       "      <td>145</td>\n",
       "    </tr>\n",
       "  </tbody>\n",
       "</table>\n",
       "</div>"
      ],
      "text/plain": [
       "                        Entities   Labels  \\\n",
       "0                        (Apple)      ORG   \n",
       "1                        (India)      GPE   \n",
       "2                    (Xolo, INC)      ORG   \n",
       "3                ($, 6, million)    MONEY   \n",
       "4                        (15, %)  PERCENT   \n",
       "5  (United, States, of, America)      GPE   \n",
       "\n",
       "                               Description  Starting Position  Ending Position  \n",
       "0  Companies, agencies, institutions, etc.                  1                6  \n",
       "1                Countries, cities, states                 26               31  \n",
       "2  Companies, agencies, institutions, etc.                 42               50  \n",
       "3          Monetary values, including unit                 55               65  \n",
       "4                Percentage, including \"%\"                114              117  \n",
       "5                Countries, cities, states                121              145  "
      ]
     },
     "execution_count": 25,
     "metadata": {},
     "output_type": "execute_result"
    }
   ],
   "source": [
    "entities_doc = []\n",
    "labels_doc = []\n",
    "description = []\n",
    "start_position = []\n",
    "end_position = []\n",
    "\n",
    "for ents in doc.ents:\n",
    "    entities_doc.append(ents)\n",
    "    labels_doc.append(ents.label_)\n",
    "    description.append(spacy.explain(ents.label_))\n",
    "    start_position.append(ents.start_char)\n",
    "    end_position.append(ents.end_char)\n",
    "    \n",
    "ner_spacy = list(zip(entities_doc,labels_doc,description,start_position,end_position))\n",
    "df_spacy = pd.DataFrame(ner_spacy)\n",
    "df_spacy.columns = ['Entities','Labels','Description','Starting Position','Ending Position']\n",
    "df_spacy"
   ]
  },
  {
   "cell_type": "code",
   "execution_count": 26,
   "id": "cee7d48b",
   "metadata": {},
   "outputs": [],
   "source": [
    "from spacy import displacy"
   ]
  },
  {
   "cell_type": "code",
   "execution_count": 28,
   "id": "546dc7a0",
   "metadata": {},
   "outputs": [
    {
     "data": {
      "text/html": [
       "<span class=\"tex2jax_ignore\"><div class=\"entities\" style=\"line-height: 2.5; direction: ltr\"> \n",
       "<mark class=\"entity\" style=\"background: #7aecec; padding: 0.45em 0.6em; margin: 0 0.25em; line-height: 1; border-radius: 0.35em;\">\n",
       "    Apple\n",
       "    <span style=\"font-size: 0.8em; font-weight: bold; line-height: 1; border-radius: 0.35em; vertical-align: middle; margin-left: 0.5rem\">ORG</span>\n",
       "</mark>\n",
       " is aiming to buy a \n",
       "<mark class=\"entity\" style=\"background: #feca74; padding: 0.45em 0.6em; margin: 0 0.25em; line-height: 1; border-radius: 0.35em;\">\n",
       "    India\n",
       "    <span style=\"font-size: 0.8em; font-weight: bold; line-height: 1; border-radius: 0.35em; vertical-align: middle; margin-left: 0.5rem\">GPE</span>\n",
       "</mark>\n",
       "'s startup \n",
       "<mark class=\"entity\" style=\"background: #7aecec; padding: 0.45em 0.6em; margin: 0 0.25em; line-height: 1; border-radius: 0.35em;\">\n",
       "    Xolo INC\n",
       "    <span style=\"font-size: 0.8em; font-weight: bold; line-height: 1; border-radius: 0.35em; vertical-align: middle; margin-left: 0.5rem\">ORG</span>\n",
       "</mark>\n",
       " for \n",
       "<mark class=\"entity\" style=\"background: #e4e7d2; padding: 0.45em 0.6em; margin: 0 0.25em; line-height: 1; border-radius: 0.35em;\">\n",
       "    $6 million\n",
       "    <span style=\"font-size: 0.8em; font-weight: bold; line-height: 1; border-radius: 0.35em; vertical-align: middle; margin-left: 0.5rem\">MONEY</span>\n",
       "</mark>\n",
       " USD,</br>which increased the stock rate  of AAPL by \n",
       "<mark class=\"entity\" style=\"background: #e4e7d2; padding: 0.45em 0.6em; margin: 0 0.25em; line-height: 1; border-radius: 0.35em;\">\n",
       "    15%\n",
       "    <span style=\"font-size: 0.8em; font-weight: bold; line-height: 1; border-radius: 0.35em; vertical-align: middle; margin-left: 0.5rem\">PERCENT</span>\n",
       "</mark>\n",
       " in \n",
       "<mark class=\"entity\" style=\"background: #feca74; padding: 0.45em 0.6em; margin: 0 0.25em; line-height: 1; border-radius: 0.35em;\">\n",
       "    United States of America\n",
       "    <span style=\"font-size: 0.8em; font-weight: bold; line-height: 1; border-radius: 0.35em; vertical-align: middle; margin-left: 0.5rem\">GPE</span>\n",
       "</mark>\n",
       "</div></span>"
      ],
      "text/plain": [
       "<IPython.core.display.HTML object>"
      ]
     },
     "metadata": {},
     "output_type": "display_data"
    }
   ],
   "source": [
    "displacy.render(doc,style='ent')"
   ]
  }
 ],
 "metadata": {
  "kernelspec": {
   "display_name": "Python 3 (ipykernel)",
   "language": "python",
   "name": "python3"
  },
  "language_info": {
   "codemirror_mode": {
    "name": "ipython",
    "version": 3
   },
   "file_extension": ".py",
   "mimetype": "text/x-python",
   "name": "python",
   "nbconvert_exporter": "python",
   "pygments_lexer": "ipython3",
   "version": "3.9.12"
  }
 },
 "nbformat": 4,
 "nbformat_minor": 5
}
